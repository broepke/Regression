{
 "cells": [
  {
   "cell_type": "markdown",
   "metadata": {},
   "source": [
    "# Regression\n",
    "\n",
    "Ordinary Least Squares Regression model with Statsmodels\n",
    "\n",
    "https://www.statsmodels.org/stable/examples/notebooks/generated/ols.html "
   ]
  },
  {
   "cell_type": "code",
   "execution_count": 1,
   "metadata": {},
   "outputs": [],
   "source": [
    "import matplotlib.pyplot as plt\n",
    "import statsmodels.api as sm\n",
    "%matplotlib inline"
   ]
  },
  {
   "cell_type": "code",
   "execution_count": 2,
   "metadata": {},
   "outputs": [],
   "source": [
    "X = [182301, 232824, 265517, 307827, 450753, 484245, \n",
    "     535776, 594604, 629684, 659109, 694050, 874305]\n",
    "y = [4761393, 5104714, 5023121, 5834911, 5599829, 6712668, \n",
    "     7083847, 7296756, 7602863, 7643765, 7739618, 9147263]"
   ]
  },
  {
   "cell_type": "code",
   "execution_count": 8,
   "metadata": {},
   "outputs": [
    {
     "data": {
      "text/plain": [
       "array([[1.00000e+00, 1.82301e+05],\n",
       "       [1.00000e+00, 2.32824e+05],\n",
       "       [1.00000e+00, 2.65517e+05],\n",
       "       [1.00000e+00, 3.07827e+05],\n",
       "       [1.00000e+00, 4.50753e+05],\n",
       "       [1.00000e+00, 4.84245e+05],\n",
       "       [1.00000e+00, 5.35776e+05],\n",
       "       [1.00000e+00, 5.94604e+05],\n",
       "       [1.00000e+00, 6.29684e+05],\n",
       "       [1.00000e+00, 6.59109e+05],\n",
       "       [1.00000e+00, 6.94050e+05],\n",
       "       [1.00000e+00, 8.74305e+05]])"
      ]
     },
     "execution_count": 8,
     "metadata": {},
     "output_type": "execute_result"
    }
   ],
   "source": [
    "# Add an intercept\n",
    "X_i = sm.add_constant(X)\n",
    "X_i"
   ]
  },
  {
   "cell_type": "code",
   "execution_count": 4,
   "metadata": {},
   "outputs": [],
   "source": [
    "mod = sm.OLS(y, X_i)\n"
   ]
  },
  {
   "cell_type": "code",
   "execution_count": 5,
   "metadata": {},
   "outputs": [
    {
     "name": "stdout",
     "output_type": "stream",
     "text": [
      "                            OLS Regression Results                            \n",
      "==============================================================================\n",
      "Dep. Variable:                      y   R-squared:                       0.957\n",
      "Model:                            OLS   Adj. R-squared:                  0.952\n",
      "Method:                 Least Squares   F-statistic:                     221.4\n",
      "Date:                Sat, 26 Mar 2022   Prob (F-statistic):           3.77e-08\n",
      "Time:                        11:08:46   Log-Likelihood:                -167.12\n",
      "No. Observations:                  12   AIC:                             338.2\n",
      "Df Residuals:                      10   BIC:                             339.2\n",
      "Df Model:                           1                                         \n",
      "Covariance Type:            nonrobust                                         \n",
      "==============================================================================\n",
      "                 coef    std err          t      P>|t|      [0.025      0.975]\n",
      "------------------------------------------------------------------------------\n",
      "const       3.548e+06   2.24e+05     15.842      0.000    3.05e+06    4.05e+06\n",
      "x1             6.2544      0.420     14.881      0.000       5.318       7.191\n",
      "==============================================================================\n",
      "Omnibus:                       14.885   Durbin-Watson:                   2.989\n",
      "Prob(Omnibus):                  0.001   Jarque-Bera (JB):                9.511\n",
      "Skew:                          -1.693   Prob(JB):                      0.00860\n",
      "Kurtosis:                       5.749   Cond. No.                     1.40e+06\n",
      "==============================================================================\n",
      "\n",
      "Notes:\n",
      "[1] Standard Errors assume that the covariance matrix of the errors is correctly specified.\n",
      "[2] The condition number is large, 1.4e+06. This might indicate that there are\n",
      "strong multicollinearity or other numerical problems.\n"
     ]
    },
    {
     "name": "stderr",
     "output_type": "stream",
     "text": [
      "/Users/brianroepke/miniforge3/envs/ML/lib/python3.9/site-packages/scipy/stats/_stats_py.py:1477: UserWarning: kurtosistest only valid for n>=20 ... continuing anyway, n=12\n",
      "  warnings.warn(\"kurtosistest only valid for n>=20 ... continuing \"\n"
     ]
    }
   ],
   "source": [
    "results = mod.fit()\n",
    "print(results.summary())"
   ]
  },
  {
   "cell_type": "code",
   "execution_count": 6,
   "metadata": {},
   "outputs": [
    {
     "name": "stdout",
     "output_type": "stream",
     "text": [
      "Parameters:  [3.54844177e+06 6.25435256e+00]\n",
      "R2:  0.9567923316868175\n",
      "Standard errors:  [2.23982648e+05 4.20294717e-01]\n",
      "Predicted values:  [4688616.49986614 5004605.15430517 5209078.7025817  5473700.3594373\n",
      " 6367609.95356972 6577080.72954249 6899373.771363   7267304.82382107\n",
      " 7486707.51166069 7670741.8357679  7889275.16860154 9016653.48948326]\n"
     ]
    }
   ],
   "source": [
    "print(\"Parameters: \", results.params)\n",
    "print(\"R2: \", results.rsquared)\n",
    "print(\"Standard errors: \", results.bse)\n",
    "print(\"Predicted values: \", results.predict())"
   ]
  },
  {
   "cell_type": "code",
   "execution_count": 7,
   "metadata": {},
   "outputs": [
    {
     "data": {
      "text/plain": [
       "<matplotlib.legend.Legend at 0x157ead550>"
      ]
     },
     "execution_count": 7,
     "metadata": {},
     "output_type": "execute_result"
    },
    {
     "data": {
      "image/png": "[encoded data removed]",
      "text/plain": [
       "<Figure size 576x432 with 1 Axes>"
      ]
     },
     "metadata": {
      "needs_background": "light"
     },
     "output_type": "display_data"
    }
   ],
   "source": [
    "pred_ols = results.get_prediction()\n",
    "iv_l = pred_ols.summary_frame()[\"obs_ci_lower\"]\n",
    "iv_u = pred_ols.summary_frame()[\"obs_ci_upper\"]\n",
    "\n",
    "fig, ax = plt.subplots(figsize=(8, 6))\n",
    "\n",
    "ax.plot(X, y, \"*\", label=\"Data\", color=\"g\")\n",
    "ax.plot(X, results.fittedvalues, \"b--.\", label=\"OLS\")\n",
    "ax.plot(X, iv_u, \"k--\")\n",
    "ax.plot(X, iv_l, \"k--\")\n",
    "ax.legend(loc=\"best\")"
   ]
  },
  {
   "cell_type": "code",
   "execution_count": null,
   "metadata": {},
   "outputs": [],
   "source": []
  }
 ],
 "metadata": {
  "interpreter": {
   "hash": "3bc6cb94701899e3bf5d255966bdeee82bd3c52ee4f583dec08e492c946e9c62"
  },
  "kernelspec": {
   "display_name": "Python 3.9.10 ('ML')",
   "language": "python",
   "name": "python3"
  },
  "language_info": {
   "codemirror_mode": {
    "name": "ipython",
    "version": 3
   },
   "file_extension": ".py",
   "mimetype": "text/x-python",
   "name": "python",
   "nbconvert_exporter": "python",
   "pygments_lexer": "ipython3",
   "version": "3.9.10"
  },
  "orig_nbformat": 4
 },
 "nbformat": 4,
 "nbformat_minor": 2
}
