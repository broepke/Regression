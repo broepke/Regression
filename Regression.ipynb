{
 "cells": [
  {
   "cell_type": "markdown",
   "metadata": {},
   "source": [
    "# Regression\n",
    "\n",
    "Ordinary Least Squares Regression model with Statsmodels\n",
    "\n",
    "https://www.statsmodels.org/stable/examples/notebooks/generated/ols.html "
   ]
  },
  {
   "cell_type": "code",
   "execution_count": 1,
   "metadata": {},
   "outputs": [],
   "source": [
    "import matplotlib.pyplot as plt\n",
    "import numpy as np\n",
    "import statsmodels.api as sm\n",
    "%matplotlib inline"
   ]
  },
  {
   "cell_type": "code",
   "execution_count": 2,
   "metadata": {},
   "outputs": [],
   "source": [
    "X = [182301, 232824, 265517, 307827, 450753, 484245, 535776, 594604, 629684, 659109, 694050, 874305]\n",
    "y = [4761393, 5104714, 5023121, 5834911, 5599829, 6712668, 7083847, 7296756, 7602863, 7643765, 7739618, 9147263]"
   ]
  },
  {
   "cell_type": "code",
   "execution_count": 3,
   "metadata": {},
   "outputs": [],
   "source": [
    "# Add an intercept\n",
    "X_i = sm.add_constant(X)"
   ]
  },
  {
   "cell_type": "code",
   "execution_count": 4,
   "metadata": {},
   "outputs": [],
   "source": [
    "mod = sm.OLS(y, X_i)\n"
   ]
  },
  {
   "cell_type": "code",
   "execution_count": 5,
   "metadata": {},
   "outputs": [
    {
     "name": "stdout",
     "output_type": "stream",
     "text": [
      "                            OLS Regression Results                            \n",
      "==============================================================================\n",
      "Dep. Variable:                      y   R-squared:                       0.957\n",
      "Model:                            OLS   Adj. R-squared:                  0.952\n",
      "Method:                 Least Squares   F-statistic:                     221.4\n",
      "Date:                Mon, 21 Mar 2022   Prob (F-statistic):           3.77e-08\n",
      "Time:                        08:53:17   Log-Likelihood:                -167.12\n",
      "No. Observations:                  12   AIC:                             338.2\n",
      "Df Residuals:                      10   BIC:                             339.2\n",
      "Df Model:                           1                                         \n",
      "Covariance Type:            nonrobust                                         \n",
      "==============================================================================\n",
      "                 coef    std err          t      P>|t|      [0.025      0.975]\n",
      "------------------------------------------------------------------------------\n",
      "const       3.548e+06   2.24e+05     15.842      0.000    3.05e+06    4.05e+06\n",
      "x1             6.2544      0.420     14.881      0.000       5.318       7.191\n",
      "==============================================================================\n",
      "Omnibus:                       14.885   Durbin-Watson:                   2.989\n",
      "Prob(Omnibus):                  0.001   Jarque-Bera (JB):                9.511\n",
      "Skew:                          -1.693   Prob(JB):                      0.00860\n",
      "Kurtosis:                       5.749   Cond. No.                     1.40e+06\n",
      "==============================================================================\n",
      "\n",
      "Notes:\n",
      "[1] Standard Errors assume that the covariance matrix of the errors is correctly specified.\n",
      "[2] The condition number is large, 1.4e+06. This might indicate that there are\n",
      "strong multicollinearity or other numerical problems.\n"
     ]
    },
    {
     "name": "stderr",
     "output_type": "stream",
     "text": [
      "/Users/brianroepke/miniforge3/envs/ML/lib/python3.9/site-packages/scipy/stats/_stats_py.py:1477: UserWarning: kurtosistest only valid for n>=20 ... continuing anyway, n=12\n",
      "  warnings.warn(\"kurtosistest only valid for n>=20 ... continuing \"\n"
     ]
    }
   ],
   "source": [
    "results = mod.fit()\n",
    "print(results.summary())"
   ]
  },
  {
   "cell_type": "code",
   "execution_count": 11,
   "metadata": {},
   "outputs": [
    {
     "name": "stdout",
     "output_type": "stream",
     "text": [
      "Parameters:  [3.54844177e+06 6.25435256e+00]\n",
      "R2:  0.9567923316868175\n",
      "Standard errors:  [2.23982648e+05 4.20294717e-01]\n",
      "Predicted values:  [4688616.49986614 5004605.15430517 5209078.7025817  5473700.3594373\n",
      " 6367609.95356972 6577080.72954249 6899373.771363   7267304.82382107\n",
      " 7486707.51166069 7670741.8357679  7889275.16860154 9016653.48948326]\n",
      "Confidence Intervals:  [[3.04937733e+06 4.04750621e+06]\n",
      " [5.31787757e+00 7.19082755e+00]]\n"
     ]
    }
   ],
   "source": [
    "print(\"Parameters: \", results.params)\n",
    "print(\"R2: \", results.rsquared)\n",
    "print(\"Standard errors: \", results.bse)\n",
    "print(\"Predicted values: \", results.predict())\n",
    "print(\"Confidence Intervals: \", results.conf_int())"
   ]
  },
  {
   "cell_type": "code",
   "execution_count": 7,
   "metadata": {},
   "outputs": [
    {
     "data": {
      "text/plain": [
       "<matplotlib.legend.Legend at 0x15aa2e490>"
      ]
     },
     "execution_count": 7,
     "metadata": {},
     "output_type": "execute_result"
    },
    {
     "data": {
      "image/png": "[encoded data removed]",
      "text/plain": [
       "<Figure size 576x432 with 1 Axes>"
      ]
     },
     "metadata": {
      "needs_background": "light"
     },
     "output_type": "display_data"
    }
   ],
   "source": [
    "pred_ols = results.get_prediction()\n",
    "iv_l = pred_ols.summary_frame()[\"obs_ci_lower\"]\n",
    "iv_u = pred_ols.summary_frame()[\"obs_ci_upper\"]\n",
    "\n",
    "fig, ax = plt.subplots(figsize=(8, 6))\n",
    "\n",
    "ax.plot(X, y, \"+\", label=\"data\", color=\"r\")\n",
    "ax.plot(X, results.fittedvalues, \"k--.\", label=\"OLS\")\n",
    "ax.plot(X, iv_u, \"k--\")\n",
    "ax.plot(X, iv_l, \"k--\")\n",
    "ax.legend(loc=\"best\")"
   ]
  },
  {
   "cell_type": "code",
   "execution_count": 8,
   "metadata": {},
   "outputs": [
    {
     "data": {
      "text/plain": [
       "array([[0.00000000e+00, 0.00000000e+00],\n",
       "       [1.01010101e-01, 1.02030405e-02],\n",
       "       [2.02020202e-01, 4.08121620e-02],\n",
       "       [3.03030303e-01, 9.18273646e-02],\n",
       "       [4.04040404e-01, 1.63248648e-01],\n",
       "       [5.05050505e-01, 2.55076013e-01],\n",
       "       [6.06060606e-01, 3.67309458e-01],\n",
       "       [7.07070707e-01, 4.99948985e-01],\n",
       "       [8.08080808e-01, 6.52994592e-01],\n",
       "       [9.09090909e-01, 8.26446281e-01],\n",
       "       [1.01010101e+00, 1.02030405e+00],\n",
       "       [1.11111111e+00, 1.23456790e+00],\n",
       "       [1.21212121e+00, 1.46923783e+00],\n",
       "       [1.31313131e+00, 1.72431385e+00],\n",
       "       [1.41414141e+00, 1.99979594e+00],\n",
       "       [1.51515152e+00, 2.29568411e+00],\n",
       "       [1.61616162e+00, 2.61197837e+00],\n",
       "       [1.71717172e+00, 2.94867871e+00],\n",
       "       [1.81818182e+00, 3.30578512e+00],\n",
       "       [1.91919192e+00, 3.68329762e+00],\n",
       "       [2.02020202e+00, 4.08121620e+00],\n",
       "       [2.12121212e+00, 4.49954086e+00],\n",
       "       [2.22222222e+00, 4.93827160e+00],\n",
       "       [2.32323232e+00, 5.39740843e+00],\n",
       "       [2.42424242e+00, 5.87695133e+00],\n",
       "       [2.52525253e+00, 6.37690032e+00],\n",
       "       [2.62626263e+00, 6.89725538e+00],\n",
       "       [2.72727273e+00, 7.43801653e+00],\n",
       "       [2.82828283e+00, 7.99918376e+00],\n",
       "       [2.92929293e+00, 8.58075707e+00],\n",
       "       [3.03030303e+00, 9.18273646e+00],\n",
       "       [3.13131313e+00, 9.80512193e+00],\n",
       "       [3.23232323e+00, 1.04479135e+01],\n",
       "       [3.33333333e+00, 1.11111111e+01],\n",
       "       [3.43434343e+00, 1.17947148e+01],\n",
       "       [3.53535354e+00, 1.24987246e+01],\n",
       "       [3.63636364e+00, 1.32231405e+01],\n",
       "       [3.73737374e+00, 1.39679625e+01],\n",
       "       [3.83838384e+00, 1.47331905e+01],\n",
       "       [3.93939394e+00, 1.55188246e+01],\n",
       "       [4.04040404e+00, 1.63248648e+01],\n",
       "       [4.14141414e+00, 1.71513111e+01],\n",
       "       [4.24242424e+00, 1.79981635e+01],\n",
       "       [4.34343434e+00, 1.88654219e+01],\n",
       "       [4.44444444e+00, 1.97530864e+01],\n",
       "       [4.54545455e+00, 2.06611570e+01],\n",
       "       [4.64646465e+00, 2.15896337e+01],\n",
       "       [4.74747475e+00, 2.25385165e+01],\n",
       "       [4.84848485e+00, 2.35078053e+01],\n",
       "       [4.94949495e+00, 2.44975003e+01],\n",
       "       [5.05050505e+00, 2.55076013e+01],\n",
       "       [5.15151515e+00, 2.65381084e+01],\n",
       "       [5.25252525e+00, 2.75890215e+01],\n",
       "       [5.35353535e+00, 2.86603408e+01],\n",
       "       [5.45454545e+00, 2.97520661e+01],\n",
       "       [5.55555556e+00, 3.08641975e+01],\n",
       "       [5.65656566e+00, 3.19967350e+01],\n",
       "       [5.75757576e+00, 3.31496786e+01],\n",
       "       [5.85858586e+00, 3.43230283e+01],\n",
       "       [5.95959596e+00, 3.55167840e+01],\n",
       "       [6.06060606e+00, 3.67309458e+01],\n",
       "       [6.16161616e+00, 3.79655137e+01],\n",
       "       [6.26262626e+00, 3.92204877e+01],\n",
       "       [6.36363636e+00, 4.04958678e+01],\n",
       "       [6.46464646e+00, 4.17916539e+01],\n",
       "       [6.56565657e+00, 4.31078461e+01],\n",
       "       [6.66666667e+00, 4.44444444e+01],\n",
       "       [6.76767677e+00, 4.58014488e+01],\n",
       "       [6.86868687e+00, 4.71788593e+01],\n",
       "       [6.96969697e+00, 4.85766758e+01],\n",
       "       [7.07070707e+00, 4.99948985e+01],\n",
       "       [7.17171717e+00, 5.14335272e+01],\n",
       "       [7.27272727e+00, 5.28925620e+01],\n",
       "       [7.37373737e+00, 5.43720029e+01],\n",
       "       [7.47474747e+00, 5.58718498e+01],\n",
       "       [7.57575758e+00, 5.73921028e+01],\n",
       "       [7.67676768e+00, 5.89327620e+01],\n",
       "       [7.77777778e+00, 6.04938272e+01],\n",
       "       [7.87878788e+00, 6.20752984e+01],\n",
       "       [7.97979798e+00, 6.36771758e+01],\n",
       "       [8.08080808e+00, 6.52994592e+01],\n",
       "       [8.18181818e+00, 6.69421488e+01],\n",
       "       [8.28282828e+00, 6.86052444e+01],\n",
       "       [8.38383838e+00, 7.02887460e+01],\n",
       "       [8.48484848e+00, 7.19926538e+01],\n",
       "       [8.58585859e+00, 7.37169677e+01],\n",
       "       [8.68686869e+00, 7.54616876e+01],\n",
       "       [8.78787879e+00, 7.72268136e+01],\n",
       "       [8.88888889e+00, 7.90123457e+01],\n",
       "       [8.98989899e+00, 8.08182838e+01],\n",
       "       [9.09090909e+00, 8.26446281e+01],\n",
       "       [9.19191919e+00, 8.44913784e+01],\n",
       "       [9.29292929e+00, 8.63585348e+01],\n",
       "       [9.39393939e+00, 8.82460973e+01],\n",
       "       [9.49494949e+00, 9.01540659e+01],\n",
       "       [9.59595960e+00, 9.20824406e+01],\n",
       "       [9.69696970e+00, 9.40312213e+01],\n",
       "       [9.79797980e+00, 9.60004081e+01],\n",
       "       [9.89898990e+00, 9.79900010e+01],\n",
       "       [1.00000000e+01, 1.00000000e+02]])"
      ]
     },
     "execution_count": 8,
     "metadata": {},
     "output_type": "execute_result"
    }
   ],
   "source": [
    "x = np.linspace(0, 10, 100)\n",
    "np.column_stack((x, x ** 2))"
   ]
  },
  {
   "cell_type": "code",
   "execution_count": null,
   "metadata": {},
   "outputs": [],
   "source": []
  }
 ],
 "metadata": {
  "interpreter": {
   "hash": "3bc6cb94701899e3bf5d255966bdeee82bd3c52ee4f583dec08e492c946e9c62"
  },
  "kernelspec": {
   "display_name": "Python 3.9.10 ('ML')",
   "language": "python",
   "name": "python3"
  },
  "language_info": {
   "codemirror_mode": {
    "name": "ipython",
    "version": 3
   },
   "file_extension": ".py",
   "mimetype": "text/x-python",
   "name": "python",
   "nbconvert_exporter": "python",
   "pygments_lexer": "ipython3",
   "version": "3.9.10"
  },
  "orig_nbformat": 4
 },
 "nbformat": 4,
 "nbformat_minor": 2
}
